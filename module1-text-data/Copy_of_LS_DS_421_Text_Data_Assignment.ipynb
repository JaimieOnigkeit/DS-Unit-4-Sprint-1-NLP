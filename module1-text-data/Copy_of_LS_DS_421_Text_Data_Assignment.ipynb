{
  "nbformat": 4,
  "nbformat_minor": 0,
  "metadata": {
    "colab": {
      "name": "Copy of LS_DS_421_Text_Data_Assignment.ipynb",
      "provenance": [],
      "collapsed_sections": [],
      "include_colab_link": true
    },
    "kernelspec": {
      "display_name": "U4-S1-NLP (Python 3)",
      "language": "python",
      "name": "u4-s1-nlp"
    },
    "language_info": {
      "codemirror_mode": {
        "name": "ipython",
        "version": 3
      },
      "file_extension": ".py",
      "mimetype": "text/x-python",
      "name": "python",
      "nbconvert_exporter": "python",
      "pygments_lexer": "ipython3",
      "version": "3.7.3"
    },
    "toc-autonumbering": false
  },
  "cells": [
    {
      "cell_type": "markdown",
      "metadata": {
        "id": "view-in-github",
        "colab_type": "text"
      },
      "source": [
        "<a href=\"https://colab.research.google.com/github/JaimieOnigkeit/DS-Unit-4-Sprint-1-NLP/blob/main/module1-text-data/Copy_of_LS_DS_421_Text_Data_Assignment.ipynb\" target=\"_parent\"><img src=\"https://colab.research.google.com/assets/colab-badge.svg\" alt=\"Open In Colab\"/></a>"
      ]
    },
    {
      "cell_type": "markdown",
      "metadata": {
        "id": "jwKoHdOdgZwa",
        "colab_type": "text"
      },
      "source": [
        "<img align=\"left\" src=\"https://lever-client-logos.s3.amazonaws.com/864372b1-534c-480e-acd5-9711f850815c-1524247202159.png\" width=200>\n",
        "<br></br>\n",
        "<br></br>\n",
        "\n",
        "# Natural Language Processing (NLP)\n",
        "## *Data Science Unit 4 Sprint 1 Assignment 1*\n",
        "\n",
        "Your goal in this assignment: find the attributes of the best & worst coffee shops in the dataset. The text is fairly raw: dates in the review, extra words in the `star_rating` column, etc. You'll probably want to clean that stuff up for a better analysis. \n",
        "\n",
        "Analyze the corpus of text using text visualizations of token frequency. Try cleaning the data as much as possible. Try the following techniques: \n",
        "- Lemmatization\n",
        "- Custom stopword removal\n",
        "\n",
        "Keep in mind the attributes of good tokens. Once you have a solid baseline, layer in the star rating in your visualization(s). Key part of this assignment - produce a write-up of the attributes of the best and worst coffee shops. Based on your analysis, what makes the best the best and the worst the worst. Use graphs and numbesr from your analysis to support your conclusions. There should be plenty of markdown cells! :coffee:"
      ]
    },
    {
      "cell_type": "code",
      "metadata": {
        "id": "hpiB_fsMgZwb",
        "colab_type": "code",
        "colab": {
          "base_uri": "https://localhost:8080/",
          "height": 321
        },
        "outputId": "fe8bf90d-9c5a-4951-cc30-2db1e34615c9"
      },
      "source": [
        "from IPython.display import YouTubeVideo\n",
        "\n",
        "YouTubeVideo('Jml7NVYm8cs')"
      ],
      "execution_count": 1,
      "outputs": [
        {
          "output_type": "execute_result",
          "data": {
            "text/html": [
              "\n",
              "        <iframe\n",
              "            width=\"400\"\n",
              "            height=\"300\"\n",
              "            src=\"https://www.youtube.com/embed/Jml7NVYm8cs\"\n",
              "            frameborder=\"0\"\n",
              "            allowfullscreen\n",
              "        ></iframe>\n",
              "        "
            ],
            "text/plain": [
              "<IPython.lib.display.YouTubeVideo at 0x7ff850efbb38>"
            ],
            "image/jpeg": "[encoded data removed]"
          },
          "metadata": {
            "tags": []
          },
          "execution_count": 1
        }
      ]
    },
    {
      "cell_type": "code",
      "metadata": {
        "id": "GF77VB4cgZwh",
        "colab_type": "code",
        "colab": {
          "base_uri": "https://localhost:8080/",
          "height": 35
        },
        "outputId": "d8bad421-5185-46f6-cef2-6c92aaf5ebf2"
      },
      "source": [
        "%pwd"
      ],
      "execution_count": 2,
      "outputs": [
        {
          "output_type": "execute_result",
          "data": {
            "application/vnd.google.colaboratory.intrinsic+json": {
              "type": "string"
            },
            "text/plain": [
              "'/content'"
            ]
          },
          "metadata": {
            "tags": []
          },
          "execution_count": 2
        }
      ]
    },
    {
      "cell_type": "code",
      "metadata": {
        "id": "GYS1p4OHrhkK",
        "colab_type": "code",
        "colab": {
          "base_uri": "https://localhost:8080/",
          "height": 87
        },
        "outputId": "4f999f9d-1062-4e2b-a1b5-e4e9a33c135f"
      },
      "source": [
        "!pip install squarify"
      ],
      "execution_count": 4,
      "outputs": [
        {
          "output_type": "stream",
          "text": [
            "Collecting squarify\n",
            "  Downloading https://files.pythonhosted.org/packages/0b/2b/2e77c35326efec19819cd1d729540d4d235e6c2a3f37658288a363a67da5/squarify-0.4.3-py3-none-any.whl\n",
            "Installing collected packages: squarify\n",
            "Successfully installed squarify-0.4.3\n"
          ],
          "name": "stdout"
        }
      ]
    },
    {
      "cell_type": "code",
      "metadata": {
        "id": "22vK9pbdr6aq",
        "colab_type": "code",
        "colab": {
          "base_uri": "https://localhost:8080/",
          "height": 585
        },
        "outputId": "3e6609f0-d535-4560-a833-9b6bd3d67a40"
      },
      "source": [
        "!python -m spacy download en_core_web_lg"
      ],
      "execution_count": 6,
      "outputs": [
        {
          "output_type": "stream",
          "text": [
            "Collecting en_core_web_lg==2.2.5\n",
            "\u001b[?25l  Downloading https://github.com/explosion/spacy-models/releases/download/en_core_web_lg-2.2.5/en_core_web_lg-2.2.5.tar.gz (827.9MB)\n",
            "\u001b[K     |████████████████████████████████| 827.9MB 1.1MB/s \n",
            "\u001b[?25hRequirement already satisfied: spacy>=2.2.2 in /usr/local/lib/python3.6/dist-packages (from en_core_web_lg==2.2.5) (2.2.4)\n",
            "Requirement already satisfied: srsly<1.1.0,>=1.0.2 in /usr/local/lib/python3.6/dist-packages (from spacy>=2.2.2->en_core_web_lg==2.2.5) (1.0.2)\n",
            "Requirement already satisfied: preshed<3.1.0,>=3.0.2 in /usr/local/lib/python3.6/dist-packages (from spacy>=2.2.2->en_core_web_lg==2.2.5) (3.0.2)\n",
            "Requirement already satisfied: numpy>=1.15.0 in /usr/local/lib/python3.6/dist-packages (from spacy>=2.2.2->en_core_web_lg==2.2.5) (1.18.5)\n",
            "Requirement already satisfied: plac<1.2.0,>=0.9.6 in /usr/local/lib/python3.6/dist-packages (from spacy>=2.2.2->en_core_web_lg==2.2.5) (1.1.3)\n",
            "Requirement already satisfied: setuptools in /usr/local/lib/python3.6/dist-packages (from spacy>=2.2.2->en_core_web_lg==2.2.5) (49.6.0)\n",
            "Requirement already satisfied: wasabi<1.1.0,>=0.4.0 in /usr/local/lib/python3.6/dist-packages (from spacy>=2.2.2->en_core_web_lg==2.2.5) (0.7.1)\n",
            "Requirement already satisfied: tqdm<5.0.0,>=4.38.0 in /usr/local/lib/python3.6/dist-packages (from spacy>=2.2.2->en_core_web_lg==2.2.5) (4.41.1)\n",
            "Requirement already satisfied: murmurhash<1.1.0,>=0.28.0 in /usr/local/lib/python3.6/dist-packages (from spacy>=2.2.2->en_core_web_lg==2.2.5) (1.0.2)\n",
            "Requirement already satisfied: requests<3.0.0,>=2.13.0 in /usr/local/lib/python3.6/dist-packages (from spacy>=2.2.2->en_core_web_lg==2.2.5) (2.23.0)\n",
            "Requirement already satisfied: catalogue<1.1.0,>=0.0.7 in /usr/local/lib/python3.6/dist-packages (from spacy>=2.2.2->en_core_web_lg==2.2.5) (1.0.0)\n",
            "Requirement already satisfied: blis<0.5.0,>=0.4.0 in /usr/local/lib/python3.6/dist-packages (from spacy>=2.2.2->en_core_web_lg==2.2.5) (0.4.1)\n",
            "Requirement already satisfied: thinc==7.4.0 in /usr/local/lib/python3.6/dist-packages (from spacy>=2.2.2->en_core_web_lg==2.2.5) (7.4.0)\n",
            "Requirement already satisfied: cymem<2.1.0,>=2.0.2 in /usr/local/lib/python3.6/dist-packages (from spacy>=2.2.2->en_core_web_lg==2.2.5) (2.0.3)\n",
            "Requirement already satisfied: urllib3!=1.25.0,!=1.25.1,<1.26,>=1.21.1 in /usr/local/lib/python3.6/dist-packages (from requests<3.0.0,>=2.13.0->spacy>=2.2.2->en_core_web_lg==2.2.5) (1.24.3)\n",
            "Requirement already satisfied: idna<3,>=2.5 in /usr/local/lib/python3.6/dist-packages (from requests<3.0.0,>=2.13.0->spacy>=2.2.2->en_core_web_lg==2.2.5) (2.10)\n",
            "Requirement already satisfied: certifi>=2017.4.17 in /usr/local/lib/python3.6/dist-packages (from requests<3.0.0,>=2.13.0->spacy>=2.2.2->en_core_web_lg==2.2.5) (2020.6.20)\n",
            "Requirement already satisfied: chardet<4,>=3.0.2 in /usr/local/lib/python3.6/dist-packages (from requests<3.0.0,>=2.13.0->spacy>=2.2.2->en_core_web_lg==2.2.5) (3.0.4)\n",
            "Requirement already satisfied: importlib-metadata>=0.20; python_version < \"3.8\" in /usr/local/lib/python3.6/dist-packages (from catalogue<1.1.0,>=0.0.7->spacy>=2.2.2->en_core_web_lg==2.2.5) (1.7.0)\n",
            "Requirement already satisfied: zipp>=0.5 in /usr/local/lib/python3.6/dist-packages (from importlib-metadata>=0.20; python_version < \"3.8\"->catalogue<1.1.0,>=0.0.7->spacy>=2.2.2->en_core_web_lg==2.2.5) (3.1.0)\n",
            "Building wheels for collected packages: en-core-web-lg\n",
            "  Building wheel for en-core-web-lg (setup.py) ... \u001b[?25l\u001b[?25hdone\n",
            "  Created wheel for en-core-web-lg: filename=en_core_web_lg-2.2.5-cp36-none-any.whl size=829180944 sha256=58a94c700870dd52b528f0b50015dc4d03560158e25b1609eeacf540405565f6\n",
            "  Stored in directory: /tmp/pip-ephem-wheel-cache-197xkrrk/wheels/2a/c1/a6/fc7a877b1efca9bc6a089d6f506f16d3868408f9ff89f8dbfc\n",
            "Successfully built en-core-web-lg\n",
            "Installing collected packages: en-core-web-lg\n",
            "Successfully installed en-core-web-lg-2.2.5\n",
            "\u001b[38;5;2m✔ Download and installation successful\u001b[0m\n",
            "You can now load the model via spacy.load('en_core_web_lg')\n"
          ],
          "name": "stdout"
        }
      ]
    },
    {
      "cell_type": "code",
      "metadata": {
        "id": "Zu4mCS7TpNdB",
        "colab_type": "code",
        "colab": {
          "base_uri": "https://localhost:8080/",
          "height": 197
        },
        "outputId": "fe632879-e08f-4463-864f-7b8c569222fe"
      },
      "source": [
        "import pandas as pd\n",
        "from collections import Counter\n",
        "import re\n",
        "import squarify\n",
        "import matplotlib.pyplot as plt\n",
        "import seaborn as sns\n",
        "import spacy\n",
        "from spacy.tokenizer import Tokenizer\n",
        "from nltk.stem import PorterStemmer\n",
        "\n",
        "url = \"https://raw.githubusercontent.com/JaimieOnigkeit/DS-Unit-4-Sprint-1-NLP/main/module1-text-data/data/yelp_coffeeshop_review_data.csv\"\n",
        "\n",
        "nlp = spacy.load(\"en_core_web_lg\")\n",
        "\n",
        "STOP_WORDS = nlp.Defaults.stop_words.union(['come', 'go', 'get', 'time', 'drink', 'place', 'good', 'great', 'like', 'order','check-in', '1', '-', ' ', 'coffee', 'Austin', 'austin', 'check', 'list', 'try',])\n",
        "\n",
        "shops = pd.read_csv(url)\n",
        "shops.head()"
      ],
      "execution_count": 2,
      "outputs": [
        {
          "output_type": "execute_result",
          "data": {
            "text/html": [
              "<div>\n",
              "<style scoped>\n",
              "    .dataframe tbody tr th:only-of-type {\n",
              "        vertical-align: middle;\n",
              "    }\n",
              "\n",
              "    .dataframe tbody tr th {\n",
              "        vertical-align: top;\n",
              "    }\n",
              "\n",
              "    .dataframe thead th {\n",
              "        text-align: right;\n",
              "    }\n",
              "</style>\n",
              "<table border=\"1\" class=\"dataframe\">\n",
              "  <thead>\n",
              "    <tr style=\"text-align: right;\">\n",
              "      <th></th>\n",
              "      <th>coffee_shop_name</th>\n",
              "      <th>full_review_text</th>\n",
              "      <th>star_rating</th>\n",
              "    </tr>\n",
              "  </thead>\n",
              "  <tbody>\n",
              "    <tr>\n",
              "      <th>0</th>\n",
              "      <td>The Factory - Cafe With a Soul</td>\n",
              "      <td>11/25/2016 1 check-in Love love loved the atm...</td>\n",
              "      <td>5.0 star rating</td>\n",
              "    </tr>\n",
              "    <tr>\n",
              "      <th>1</th>\n",
              "      <td>The Factory - Cafe With a Soul</td>\n",
              "      <td>12/2/2016 Listed in Date Night: Austin, Ambia...</td>\n",
              "      <td>4.0 star rating</td>\n",
              "    </tr>\n",
              "    <tr>\n",
              "      <th>2</th>\n",
              "      <td>The Factory - Cafe With a Soul</td>\n",
              "      <td>11/30/2016 1 check-in Listed in Brunch Spots ...</td>\n",
              "      <td>4.0 star rating</td>\n",
              "    </tr>\n",
              "    <tr>\n",
              "      <th>3</th>\n",
              "      <td>The Factory - Cafe With a Soul</td>\n",
              "      <td>11/25/2016 Very cool decor! Good drinks Nice ...</td>\n",
              "      <td>2.0 star rating</td>\n",
              "    </tr>\n",
              "    <tr>\n",
              "      <th>4</th>\n",
              "      <td>The Factory - Cafe With a Soul</td>\n",
              "      <td>12/3/2016 1 check-in They are located within ...</td>\n",
              "      <td>4.0 star rating</td>\n",
              "    </tr>\n",
              "  </tbody>\n",
              "</table>\n",
              "</div>"
            ],
            "text/plain": [
              "                  coffee_shop_name  ...        star_rating\n",
              "0  The Factory - Cafe With a Soul   ...   5.0 star rating \n",
              "1  The Factory - Cafe With a Soul   ...   4.0 star rating \n",
              "2  The Factory - Cafe With a Soul   ...   4.0 star rating \n",
              "3  The Factory - Cafe With a Soul   ...   2.0 star rating \n",
              "4  The Factory - Cafe With a Soul   ...   4.0 star rating \n",
              "\n",
              "[5 rows x 3 columns]"
            ]
          },
          "metadata": {
            "tags": []
          },
          "execution_count": 2
        }
      ]
    },
    {
      "cell_type": "code",
      "metadata": {
        "id": "XTlHrx4XgZwo",
        "colab_type": "code",
        "colab": {
          "base_uri": "https://localhost:8080/",
          "height": 197
        },
        "outputId": "7a873908-08dc-4e3a-f0c0-e449b40d83c3"
      },
      "source": [
        "#Clean star rating\n",
        "shops[\"star_int\"] = shops[\"star_rating\"].str[1]\n",
        "shops[\"star_int\"] = shops[\"star_int\"].astype(str).astype(int)\n",
        "shops = shops.drop(columns = [\"star_rating\"])\n",
        "shops.head()\n"
      ],
      "execution_count": 3,
      "outputs": [
        {
          "output_type": "execute_result",
          "data": {
            "text/html": [
              "<div>\n",
              "<style scoped>\n",
              "    .dataframe tbody tr th:only-of-type {\n",
              "        vertical-align: middle;\n",
              "    }\n",
              "\n",
              "    .dataframe tbody tr th {\n",
              "        vertical-align: top;\n",
              "    }\n",
              "\n",
              "    .dataframe thead th {\n",
              "        text-align: right;\n",
              "    }\n",
              "</style>\n",
              "<table border=\"1\" class=\"dataframe\">\n",
              "  <thead>\n",
              "    <tr style=\"text-align: right;\">\n",
              "      <th></th>\n",
              "      <th>coffee_shop_name</th>\n",
              "      <th>full_review_text</th>\n",
              "      <th>star_int</th>\n",
              "    </tr>\n",
              "  </thead>\n",
              "  <tbody>\n",
              "    <tr>\n",
              "      <th>0</th>\n",
              "      <td>The Factory - Cafe With a Soul</td>\n",
              "      <td>11/25/2016 1 check-in Love love loved the atm...</td>\n",
              "      <td>5</td>\n",
              "    </tr>\n",
              "    <tr>\n",
              "      <th>1</th>\n",
              "      <td>The Factory - Cafe With a Soul</td>\n",
              "      <td>12/2/2016 Listed in Date Night: Austin, Ambia...</td>\n",
              "      <td>4</td>\n",
              "    </tr>\n",
              "    <tr>\n",
              "      <th>2</th>\n",
              "      <td>The Factory - Cafe With a Soul</td>\n",
              "      <td>11/30/2016 1 check-in Listed in Brunch Spots ...</td>\n",
              "      <td>4</td>\n",
              "    </tr>\n",
              "    <tr>\n",
              "      <th>3</th>\n",
              "      <td>The Factory - Cafe With a Soul</td>\n",
              "      <td>11/25/2016 Very cool decor! Good drinks Nice ...</td>\n",
              "      <td>2</td>\n",
              "    </tr>\n",
              "    <tr>\n",
              "      <th>4</th>\n",
              "      <td>The Factory - Cafe With a Soul</td>\n",
              "      <td>12/3/2016 1 check-in They are located within ...</td>\n",
              "      <td>4</td>\n",
              "    </tr>\n",
              "  </tbody>\n",
              "</table>\n",
              "</div>"
            ],
            "text/plain": [
              "                  coffee_shop_name  ... star_int\n",
              "0  The Factory - Cafe With a Soul   ...        5\n",
              "1  The Factory - Cafe With a Soul   ...        4\n",
              "2  The Factory - Cafe With a Soul   ...        4\n",
              "3  The Factory - Cafe With a Soul   ...        2\n",
              "4  The Factory - Cafe With a Soul   ...        4\n",
              "\n",
              "[5 rows x 3 columns]"
            ]
          },
          "metadata": {
            "tags": []
          },
          "execution_count": 3
        }
      ]
    },
    {
      "cell_type": "code",
      "metadata": {
        "id": "-ceBDiCbpk91",
        "colab_type": "code",
        "colab": {
          "base_uri": "https://localhost:8080/",
          "height": 197
        },
        "outputId": "180498d1-5a34-426f-81fa-7f8665e83c38"
      },
      "source": [
        "#Seperate date into it's own column\n",
        "shops[\"date\"] = shops[\"full_review_text\"].str[1:11]\n",
        "shops[\"full_review_text\"] = shops[\"full_review_text\"].str[11:]\n",
        "shops.head()"
      ],
      "execution_count": 4,
      "outputs": [
        {
          "output_type": "execute_result",
          "data": {
            "text/html": [
              "<div>\n",
              "<style scoped>\n",
              "    .dataframe tbody tr th:only-of-type {\n",
              "        vertical-align: middle;\n",
              "    }\n",
              "\n",
              "    .dataframe tbody tr th {\n",
              "        vertical-align: top;\n",
              "    }\n",
              "\n",
              "    .dataframe thead th {\n",
              "        text-align: right;\n",
              "    }\n",
              "</style>\n",
              "<table border=\"1\" class=\"dataframe\">\n",
              "  <thead>\n",
              "    <tr style=\"text-align: right;\">\n",
              "      <th></th>\n",
              "      <th>coffee_shop_name</th>\n",
              "      <th>full_review_text</th>\n",
              "      <th>star_int</th>\n",
              "      <th>date</th>\n",
              "    </tr>\n",
              "  </thead>\n",
              "  <tbody>\n",
              "    <tr>\n",
              "      <th>0</th>\n",
              "      <td>The Factory - Cafe With a Soul</td>\n",
              "      <td>1 check-in Love love loved the atmosphere! Ev...</td>\n",
              "      <td>5</td>\n",
              "      <td>11/25/2016</td>\n",
              "    </tr>\n",
              "    <tr>\n",
              "      <th>1</th>\n",
              "      <td>The Factory - Cafe With a Soul</td>\n",
              "      <td>Listed in Date Night: Austin, Ambiance in Aust...</td>\n",
              "      <td>4</td>\n",
              "      <td>12/2/2016</td>\n",
              "    </tr>\n",
              "    <tr>\n",
              "      <th>2</th>\n",
              "      <td>The Factory - Cafe With a Soul</td>\n",
              "      <td>1 check-in Listed in Brunch Spots I loved the...</td>\n",
              "      <td>4</td>\n",
              "      <td>11/30/2016</td>\n",
              "    </tr>\n",
              "    <tr>\n",
              "      <th>3</th>\n",
              "      <td>The Factory - Cafe With a Soul</td>\n",
              "      <td>Very cool decor! Good drinks Nice seating  Ho...</td>\n",
              "      <td>2</td>\n",
              "      <td>11/25/2016</td>\n",
              "    </tr>\n",
              "    <tr>\n",
              "      <th>4</th>\n",
              "      <td>The Factory - Cafe With a Soul</td>\n",
              "      <td>1 check-in They are located within the Northcr...</td>\n",
              "      <td>4</td>\n",
              "      <td>12/3/2016</td>\n",
              "    </tr>\n",
              "  </tbody>\n",
              "</table>\n",
              "</div>"
            ],
            "text/plain": [
              "                  coffee_shop_name  ...        date\n",
              "0  The Factory - Cafe With a Soul   ...  11/25/2016\n",
              "1  The Factory - Cafe With a Soul   ...  12/2/2016 \n",
              "2  The Factory - Cafe With a Soul   ...  11/30/2016\n",
              "3  The Factory - Cafe With a Soul   ...  11/25/2016\n",
              "4  The Factory - Cafe With a Soul   ...  12/3/2016 \n",
              "\n",
              "[5 rows x 4 columns]"
            ]
          },
          "metadata": {
            "tags": []
          },
          "execution_count": 4
        }
      ]
    },
    {
      "cell_type": "code",
      "metadata": {
        "id": "vhYUD6jLpslJ",
        "colab_type": "code",
        "colab": {}
      },
      "source": [
        "def tokenize(text):\n",
        "    \"\"\"Parses a string into a list of semantic units (words)\n",
        "\n",
        "    Args:\n",
        "        text (str): The string that the function will tokenize.\n",
        "\n",
        "    Returns:\n",
        "        list: tokens parsed out by the mechanics of your choice\n",
        "    \"\"\"\n",
        "    \n",
        "    tokens = re.sub('[^a-zA-Z 0-9]', '', text)\n",
        "    tokens = tokens.lower().split()\n",
        "    \n",
        "    return tokens"
      ],
      "execution_count": 5,
      "outputs": []
    },
    {
      "cell_type": "code",
      "metadata": {
        "id": "w6o3PvTiqMaC",
        "colab_type": "code",
        "colab": {
          "base_uri": "https://localhost:8080/",
          "height": 197
        },
        "outputId": "46ad5039-5a46-4d0c-c4c2-5e1607f6e585"
      },
      "source": [
        "shops[\"tokens\"] = shops[\"full_review_text\"].apply(tokenize)\n",
        "shops.head()"
      ],
      "execution_count": 6,
      "outputs": [
        {
          "output_type": "execute_result",
          "data": {
            "text/html": [
              "<div>\n",
              "<style scoped>\n",
              "    .dataframe tbody tr th:only-of-type {\n",
              "        vertical-align: middle;\n",
              "    }\n",
              "\n",
              "    .dataframe tbody tr th {\n",
              "        vertical-align: top;\n",
              "    }\n",
              "\n",
              "    .dataframe thead th {\n",
              "        text-align: right;\n",
              "    }\n",
              "</style>\n",
              "<table border=\"1\" class=\"dataframe\">\n",
              "  <thead>\n",
              "    <tr style=\"text-align: right;\">\n",
              "      <th></th>\n",
              "      <th>coffee_shop_name</th>\n",
              "      <th>full_review_text</th>\n",
              "      <th>star_int</th>\n",
              "      <th>date</th>\n",
              "      <th>tokens</th>\n",
              "    </tr>\n",
              "  </thead>\n",
              "  <tbody>\n",
              "    <tr>\n",
              "      <th>0</th>\n",
              "      <td>The Factory - Cafe With a Soul</td>\n",
              "      <td>1 check-in Love love loved the atmosphere! Ev...</td>\n",
              "      <td>5</td>\n",
              "      <td>11/25/2016</td>\n",
              "      <td>[1, checkin, love, love, loved, the, atmospher...</td>\n",
              "    </tr>\n",
              "    <tr>\n",
              "      <th>1</th>\n",
              "      <td>The Factory - Cafe With a Soul</td>\n",
              "      <td>Listed in Date Night: Austin, Ambiance in Aust...</td>\n",
              "      <td>4</td>\n",
              "      <td>12/2/2016</td>\n",
              "      <td>[listed, in, date, night, austin, ambiance, in...</td>\n",
              "    </tr>\n",
              "    <tr>\n",
              "      <th>2</th>\n",
              "      <td>The Factory - Cafe With a Soul</td>\n",
              "      <td>1 check-in Listed in Brunch Spots I loved the...</td>\n",
              "      <td>4</td>\n",
              "      <td>11/30/2016</td>\n",
              "      <td>[1, checkin, listed, in, brunch, spots, i, lov...</td>\n",
              "    </tr>\n",
              "    <tr>\n",
              "      <th>3</th>\n",
              "      <td>The Factory - Cafe With a Soul</td>\n",
              "      <td>Very cool decor! Good drinks Nice seating  Ho...</td>\n",
              "      <td>2</td>\n",
              "      <td>11/25/2016</td>\n",
              "      <td>[very, cool, decor, good, drinks, nice, seatin...</td>\n",
              "    </tr>\n",
              "    <tr>\n",
              "      <th>4</th>\n",
              "      <td>The Factory - Cafe With a Soul</td>\n",
              "      <td>1 check-in They are located within the Northcr...</td>\n",
              "      <td>4</td>\n",
              "      <td>12/3/2016</td>\n",
              "      <td>[1, checkin, they, are, located, within, the, ...</td>\n",
              "    </tr>\n",
              "  </tbody>\n",
              "</table>\n",
              "</div>"
            ],
            "text/plain": [
              "                  coffee_shop_name  ...                                             tokens\n",
              "0  The Factory - Cafe With a Soul   ...  [1, checkin, love, love, loved, the, atmospher...\n",
              "1  The Factory - Cafe With a Soul   ...  [listed, in, date, night, austin, ambiance, in...\n",
              "2  The Factory - Cafe With a Soul   ...  [1, checkin, listed, in, brunch, spots, i, lov...\n",
              "3  The Factory - Cafe With a Soul   ...  [very, cool, decor, good, drinks, nice, seatin...\n",
              "4  The Factory - Cafe With a Soul   ...  [1, checkin, they, are, located, within, the, ...\n",
              "\n",
              "[5 rows x 5 columns]"
            ]
          },
          "metadata": {
            "tags": []
          },
          "execution_count": 6
        }
      ]
    },
    {
      "cell_type": "code",
      "metadata": {
        "id": "7NAU7P27qbiq",
        "colab_type": "code",
        "colab": {}
      },
      "source": [
        "def count(docs):\n",
        "\n",
        "        word_counts = Counter()\n",
        "        appears_in = Counter()\n",
        "        \n",
        "        total_docs = len(docs)\n",
        "\n",
        "        for doc in docs:\n",
        "            word_counts.update(doc)\n",
        "            appears_in.update(set(doc))\n",
        "\n",
        "        temp = zip(word_counts.keys(), word_counts.values())\n",
        "        \n",
        "        wc = pd.DataFrame(temp, columns = ['word', 'count'])\n",
        "\n",
        "        wc['rank'] = wc['count'].rank(method='first', ascending=False)\n",
        "        total = wc['count'].sum()\n",
        "\n",
        "        wc['pct_total'] = wc['count'].apply(lambda x: x / total)\n",
        "        \n",
        "        wc = wc.sort_values(by='rank')\n",
        "        wc['cul_pct_total'] = wc['pct_total'].cumsum()\n",
        "\n",
        "        t2 = zip(appears_in.keys(), appears_in.values())\n",
        "        ac = pd.DataFrame(t2, columns=['word', 'appears_in'])\n",
        "        wc = ac.merge(wc, on='word')\n",
        "\n",
        "        wc['appears_in_pct'] = wc['appears_in'].apply(lambda x: x / total_docs)\n",
        "        \n",
        "        return wc.sort_values(by='rank')"
      ],
      "execution_count": 7,
      "outputs": []
    },
    {
      "cell_type": "code",
      "metadata": {
        "id": "r6d63TzGq5Ah",
        "colab_type": "code",
        "colab": {}
      },
      "source": [
        "tokenizer = Tokenizer(nlp.vocab)\n",
        "tokens = []\n",
        "\n",
        "for doc in tokenizer.pipe(shops[\"full_review_text\"], batch_size=500):\n",
        "    \n",
        "    doc_tokens = []\n",
        "    \n",
        "    for token in doc: \n",
        "        if token.text.lower() not in STOP_WORDS:\n",
        "            doc_tokens.append(token.text.lower())\n",
        "   \n",
        "    tokens.append(doc_tokens)\n",
        "    \n",
        "shops['tokens'] = tokens"
      ],
      "execution_count": 8,
      "outputs": []
    },
    {
      "cell_type": "code",
      "metadata": {
        "id": "lKYZOjy5rXS6",
        "colab_type": "code",
        "colab": {
          "base_uri": "https://localhost:8080/",
          "height": 197
        },
        "outputId": "8ecfd3af-93b3-4e89-beee-e35ad3772705"
      },
      "source": [
        "shops.head()"
      ],
      "execution_count": 9,
      "outputs": [
        {
          "output_type": "execute_result",
          "data": {
            "text/html": [
              "<div>\n",
              "<style scoped>\n",
              "    .dataframe tbody tr th:only-of-type {\n",
              "        vertical-align: middle;\n",
              "    }\n",
              "\n",
              "    .dataframe tbody tr th {\n",
              "        vertical-align: top;\n",
              "    }\n",
              "\n",
              "    .dataframe thead th {\n",
              "        text-align: right;\n",
              "    }\n",
              "</style>\n",
              "<table border=\"1\" class=\"dataframe\">\n",
              "  <thead>\n",
              "    <tr style=\"text-align: right;\">\n",
              "      <th></th>\n",
              "      <th>coffee_shop_name</th>\n",
              "      <th>full_review_text</th>\n",
              "      <th>star_int</th>\n",
              "      <th>date</th>\n",
              "      <th>tokens</th>\n",
              "    </tr>\n",
              "  </thead>\n",
              "  <tbody>\n",
              "    <tr>\n",
              "      <th>0</th>\n",
              "      <td>The Factory - Cafe With a Soul</td>\n",
              "      <td>1 check-in Love love loved the atmosphere! Ev...</td>\n",
              "      <td>5</td>\n",
              "      <td>11/25/2016</td>\n",
              "      <td>[love, love, loved, atmosphere!, corner, shop,...</td>\n",
              "    </tr>\n",
              "    <tr>\n",
              "      <th>1</th>\n",
              "      <td>The Factory - Cafe With a Soul</td>\n",
              "      <td>Listed in Date Night: Austin, Ambiance in Aust...</td>\n",
              "      <td>4</td>\n",
              "      <td>12/2/2016</td>\n",
              "      <td>[listed, date, night:, austin,, ambiance, beau...</td>\n",
              "    </tr>\n",
              "    <tr>\n",
              "      <th>2</th>\n",
              "      <td>The Factory - Cafe With a Soul</td>\n",
              "      <td>1 check-in Listed in Brunch Spots I loved the...</td>\n",
              "      <td>4</td>\n",
              "      <td>11/30/2016</td>\n",
              "      <td>[listed, brunch, spots, loved, eclectic, homey...</td>\n",
              "    </tr>\n",
              "    <tr>\n",
              "      <th>3</th>\n",
              "      <td>The Factory - Cafe With a Soul</td>\n",
              "      <td>Very cool decor! Good drinks Nice seating  Ho...</td>\n",
              "      <td>2</td>\n",
              "      <td>11/25/2016</td>\n",
              "      <td>[cool, decor!, drinks, nice, seating, however....</td>\n",
              "    </tr>\n",
              "    <tr>\n",
              "      <th>4</th>\n",
              "      <td>The Factory - Cafe With a Soul</td>\n",
              "      <td>1 check-in They are located within the Northcr...</td>\n",
              "      <td>4</td>\n",
              "      <td>12/3/2016</td>\n",
              "      <td>[located, northcross, mall, shopping, center, ...</td>\n",
              "    </tr>\n",
              "  </tbody>\n",
              "</table>\n",
              "</div>"
            ],
            "text/plain": [
              "                  coffee_shop_name  ...                                             tokens\n",
              "0  The Factory - Cafe With a Soul   ...  [love, love, loved, atmosphere!, corner, shop,...\n",
              "1  The Factory - Cafe With a Soul   ...  [listed, date, night:, austin,, ambiance, beau...\n",
              "2  The Factory - Cafe With a Soul   ...  [listed, brunch, spots, loved, eclectic, homey...\n",
              "3  The Factory - Cafe With a Soul   ...  [cool, decor!, drinks, nice, seating, however....\n",
              "4  The Factory - Cafe With a Soul   ...  [located, northcross, mall, shopping, center, ...\n",
              "\n",
              "[5 rows x 5 columns]"
            ]
          },
          "metadata": {
            "tags": []
          },
          "execution_count": 9
        }
      ]
    },
    {
      "cell_type": "code",
      "metadata": {
        "id": "hQwG68SwuBcc",
        "colab_type": "code",
        "colab": {
          "base_uri": "https://localhost:8080/",
          "height": 247
        },
        "outputId": "c15921b8-a3f9-42fc-8777-6bfeebfa912b"
      },
      "source": [
        "wc = count(shops['tokens'])\n",
        "\n",
        "wc_top20 = wc[wc['rank'] <= 20]\n",
        "\n",
        "squarify.plot(sizes=wc_top20['pct_total'], label=wc_top20['word'], alpha=.8 )\n",
        "plt.axis('off')\n",
        "plt.show()"
      ],
      "execution_count": 10,
      "outputs": [
        {
          "output_type": "display_data",
          "data": {
            "image/png": "[encoded data removed]",
            "text/plain": [
              "<Figure size 432x288 with 1 Axes>"
            ]
          },
          "metadata": {
            "tags": [],
            "needs_background": "light"
          }
        }
      ]
    },
    {
      "cell_type": "code",
      "metadata": {
        "id": "_sNNMclIuFZb",
        "colab_type": "code",
        "colab": {}
      },
      "source": [
        "def get_lemmas(text):\n",
        "\n",
        "    lemmas = []\n",
        "    \n",
        "    doc = nlp(text)\n",
        "    \n",
        "    # Something goes here :P\n",
        "    for token in doc: \n",
        "        if (((token.pos_ != 'PRON') and (token.is_punct == False)) and (token.text.lower() not in STOP_WORDS)):\n",
        "            lemmas.append(token.lemma_)\n",
        "    \n",
        "    return lemmas"
      ],
      "execution_count": 11,
      "outputs": []
    },
    {
      "cell_type": "code",
      "metadata": {
        "id": "bAWK89E7uKyy",
        "colab_type": "code",
        "colab": {
          "base_uri": "https://localhost:8080/",
          "height": 197
        },
        "outputId": "512ce7b2-92b1-469c-e38b-c55f5d486137"
      },
      "source": [
        "shops['lemmas'] = shops['full_review_text'].apply(get_lemmas)\n",
        "shops.head()"
      ],
      "execution_count": 12,
      "outputs": [
        {
          "output_type": "execute_result",
          "data": {
            "text/html": [
              "<div>\n",
              "<style scoped>\n",
              "    .dataframe tbody tr th:only-of-type {\n",
              "        vertical-align: middle;\n",
              "    }\n",
              "\n",
              "    .dataframe tbody tr th {\n",
              "        vertical-align: top;\n",
              "    }\n",
              "\n",
              "    .dataframe thead th {\n",
              "        text-align: right;\n",
              "    }\n",
              "</style>\n",
              "<table border=\"1\" class=\"dataframe\">\n",
              "  <thead>\n",
              "    <tr style=\"text-align: right;\">\n",
              "      <th></th>\n",
              "      <th>coffee_shop_name</th>\n",
              "      <th>full_review_text</th>\n",
              "      <th>star_int</th>\n",
              "      <th>date</th>\n",
              "      <th>tokens</th>\n",
              "      <th>lemmas</th>\n",
              "    </tr>\n",
              "  </thead>\n",
              "  <tbody>\n",
              "    <tr>\n",
              "      <th>0</th>\n",
              "      <td>The Factory - Cafe With a Soul</td>\n",
              "      <td>1 check-in Love love loved the atmosphere! Ev...</td>\n",
              "      <td>5</td>\n",
              "      <td>11/25/2016</td>\n",
              "      <td>[love, love, loved, atmosphere!, corner, shop,...</td>\n",
              "      <td>[Love, love, love, atmosphere, corner, shop, s...</td>\n",
              "    </tr>\n",
              "    <tr>\n",
              "      <th>1</th>\n",
              "      <td>The Factory - Cafe With a Soul</td>\n",
              "      <td>Listed in Date Night: Austin, Ambiance in Aust...</td>\n",
              "      <td>4</td>\n",
              "      <td>12/2/2016</td>\n",
              "      <td>[listed, date, night:, austin,, ambiance, beau...</td>\n",
              "      <td>[list, Date, Night, Ambiance, beautiful, love,...</td>\n",
              "    </tr>\n",
              "    <tr>\n",
              "      <th>2</th>\n",
              "      <td>The Factory - Cafe With a Soul</td>\n",
              "      <td>1 check-in Listed in Brunch Spots I loved the...</td>\n",
              "      <td>4</td>\n",
              "      <td>11/30/2016</td>\n",
              "      <td>[listed, brunch, spots, loved, eclectic, homey...</td>\n",
              "      <td>[list, Brunch, Spots, love, eclectic, homey, p...</td>\n",
              "    </tr>\n",
              "    <tr>\n",
              "      <th>3</th>\n",
              "      <td>The Factory - Cafe With a Soul</td>\n",
              "      <td>Very cool decor! Good drinks Nice seating  Ho...</td>\n",
              "      <td>2</td>\n",
              "      <td>11/25/2016</td>\n",
              "      <td>[cool, decor!, drinks, nice, seating, however....</td>\n",
              "      <td>[cool, decor, drink, nice, seating, overpriced...</td>\n",
              "    </tr>\n",
              "    <tr>\n",
              "      <th>4</th>\n",
              "      <td>The Factory - Cafe With a Soul</td>\n",
              "      <td>1 check-in They are located within the Northcr...</td>\n",
              "      <td>4</td>\n",
              "      <td>12/3/2016</td>\n",
              "      <td>[located, northcross, mall, shopping, center, ...</td>\n",
              "      <td>[locate, Northcross, mall, shopping, center, f...</td>\n",
              "    </tr>\n",
              "  </tbody>\n",
              "</table>\n",
              "</div>"
            ],
            "text/plain": [
              "                  coffee_shop_name  ...                                             lemmas\n",
              "0  The Factory - Cafe With a Soul   ...  [Love, love, love, atmosphere, corner, shop, s...\n",
              "1  The Factory - Cafe With a Soul   ...  [list, Date, Night, Ambiance, beautiful, love,...\n",
              "2  The Factory - Cafe With a Soul   ...  [list, Brunch, Spots, love, eclectic, homey, p...\n",
              "3  The Factory - Cafe With a Soul   ...  [cool, decor, drink, nice, seating, overpriced...\n",
              "4  The Factory - Cafe With a Soul   ...  [locate, Northcross, mall, shopping, center, f...\n",
              "\n",
              "[5 rows x 6 columns]"
            ]
          },
          "metadata": {
            "tags": []
          },
          "execution_count": 12
        }
      ]
    },
    {
      "cell_type": "code",
      "metadata": {
        "id": "wNnycwa8uT2Q",
        "colab_type": "code",
        "colab": {
          "base_uri": "https://localhost:8080/",
          "height": 878
        },
        "outputId": "faeda7bf-cfb4-476e-e2e2-243774f63537"
      },
      "source": [
        "wc = count(shops['lemmas'])\n",
        "\n",
        "wc_top20 = wc[wc['rank'] <= 20]\n",
        "\n",
        "squarify.plot(sizes=wc_top20['pct_total'], label=wc_top20['word'], alpha=.8 )\n",
        "plt.axis('off')\n",
        "plt.show()\n",
        "\n",
        "wc_top20"
      ],
      "execution_count": 13,
      "outputs": [
        {
          "output_type": "display_data",
          "data": {
            "image/png": "[encoded data removed]",
            "text/plain": [
              "<Figure size 432x288 with 1 Axes>"
            ]
          },
          "metadata": {
            "tags": [],
            "needs_background": "light"
          }
        },
        {
          "output_type": "execute_result",
          "data": {
            "text/html": [
              "<div>\n",
              "<style scoped>\n",
              "    .dataframe tbody tr th:only-of-type {\n",
              "        vertical-align: middle;\n",
              "    }\n",
              "\n",
              "    .dataframe tbody tr th {\n",
              "        vertical-align: top;\n",
              "    }\n",
              "\n",
              "    .dataframe thead th {\n",
              "        text-align: right;\n",
              "    }\n",
              "</style>\n",
              "<table border=\"1\" class=\"dataframe\">\n",
              "  <thead>\n",
              "    <tr style=\"text-align: right;\">\n",
              "      <th></th>\n",
              "      <th>word</th>\n",
              "      <th>appears_in</th>\n",
              "      <th>count</th>\n",
              "      <th>rank</th>\n",
              "      <th>pct_total</th>\n",
              "      <th>cul_pct_total</th>\n",
              "      <th>appears_in_pct</th>\n",
              "    </tr>\n",
              "  </thead>\n",
              "  <tbody>\n",
              "    <tr>\n",
              "      <th>29</th>\n",
              "      <td>love</td>\n",
              "      <td>1770</td>\n",
              "      <td>2300</td>\n",
              "      <td>1.0</td>\n",
              "      <td>0.007161</td>\n",
              "      <td>0.007161</td>\n",
              "      <td>0.232405</td>\n",
              "    </tr>\n",
              "    <tr>\n",
              "      <th>26</th>\n",
              "      <td>shop</td>\n",
              "      <td>1629</td>\n",
              "      <td>2183</td>\n",
              "      <td>2.0</td>\n",
              "      <td>0.006796</td>\n",
              "      <td>0.013957</td>\n",
              "      <td>0.213892</td>\n",
              "    </tr>\n",
              "    <tr>\n",
              "      <th>621</th>\n",
              "      <td>work</td>\n",
              "      <td>1486</td>\n",
              "      <td>1904</td>\n",
              "      <td>3.0</td>\n",
              "      <td>0.005928</td>\n",
              "      <td>0.019885</td>\n",
              "      <td>0.195116</td>\n",
              "    </tr>\n",
              "    <tr>\n",
              "      <th>8</th>\n",
              "      <td>get</td>\n",
              "      <td>1467</td>\n",
              "      <td>1903</td>\n",
              "      <td>4.0</td>\n",
              "      <td>0.005925</td>\n",
              "      <td>0.025809</td>\n",
              "      <td>0.192621</td>\n",
              "    </tr>\n",
              "    <tr>\n",
              "      <th>371</th>\n",
              "      <td>food</td>\n",
              "      <td>1395</td>\n",
              "      <td>1880</td>\n",
              "      <td>5.0</td>\n",
              "      <td>0.005853</td>\n",
              "      <td>0.031662</td>\n",
              "      <td>0.183167</td>\n",
              "    </tr>\n",
              "    <tr>\n",
              "      <th>42</th>\n",
              "      <td>nice</td>\n",
              "      <td>1500</td>\n",
              "      <td>1795</td>\n",
              "      <td>6.0</td>\n",
              "      <td>0.005588</td>\n",
              "      <td>0.037250</td>\n",
              "      <td>0.196954</td>\n",
              "    </tr>\n",
              "    <tr>\n",
              "      <th>179</th>\n",
              "      <td>friendly</td>\n",
              "      <td>1624</td>\n",
              "      <td>1720</td>\n",
              "      <td>7.0</td>\n",
              "      <td>0.005355</td>\n",
              "      <td>0.042605</td>\n",
              "      <td>0.213235</td>\n",
              "    </tr>\n",
              "    <tr>\n",
              "      <th>10</th>\n",
              "      <td>latte</td>\n",
              "      <td>1176</td>\n",
              "      <td>1711</td>\n",
              "      <td>8.0</td>\n",
              "      <td>0.005327</td>\n",
              "      <td>0.047932</td>\n",
              "      <td>0.154412</td>\n",
              "    </tr>\n",
              "    <tr>\n",
              "      <th>598</th>\n",
              "      <td>little</td>\n",
              "      <td>1235</td>\n",
              "      <td>1496</td>\n",
              "      <td>9.0</td>\n",
              "      <td>0.004657</td>\n",
              "      <td>0.052590</td>\n",
              "      <td>0.162159</td>\n",
              "    </tr>\n",
              "    <tr>\n",
              "      <th>37</th>\n",
              "      <td>go</td>\n",
              "      <td>1201</td>\n",
              "      <td>1484</td>\n",
              "      <td>10.0</td>\n",
              "      <td>0.004620</td>\n",
              "      <td>0.057210</td>\n",
              "      <td>0.157694</td>\n",
              "    </tr>\n",
              "    <tr>\n",
              "      <th>407</th>\n",
              "      <td>people</td>\n",
              "      <td>1144</td>\n",
              "      <td>1402</td>\n",
              "      <td>11.0</td>\n",
              "      <td>0.004365</td>\n",
              "      <td>0.061575</td>\n",
              "      <td>0.150210</td>\n",
              "    </tr>\n",
              "    <tr>\n",
              "      <th>498</th>\n",
              "      <td>come</td>\n",
              "      <td>1165</td>\n",
              "      <td>1400</td>\n",
              "      <td>12.0</td>\n",
              "      <td>0.004359</td>\n",
              "      <td>0.065933</td>\n",
              "      <td>0.152967</td>\n",
              "    </tr>\n",
              "    <tr>\n",
              "      <th>1</th>\n",
              "      <td>pretty</td>\n",
              "      <td>1078</td>\n",
              "      <td>1364</td>\n",
              "      <td>13.0</td>\n",
              "      <td>0.004247</td>\n",
              "      <td>0.070180</td>\n",
              "      <td>0.141544</td>\n",
              "    </tr>\n",
              "    <tr>\n",
              "      <th>328</th>\n",
              "      <td>good</td>\n",
              "      <td>1182</td>\n",
              "      <td>1364</td>\n",
              "      <td>14.0</td>\n",
              "      <td>0.004247</td>\n",
              "      <td>0.074426</td>\n",
              "      <td>0.155200</td>\n",
              "    </tr>\n",
              "    <tr>\n",
              "      <th>152</th>\n",
              "      <td>service</td>\n",
              "      <td>1169</td>\n",
              "      <td>1338</td>\n",
              "      <td>15.0</td>\n",
              "      <td>0.004166</td>\n",
              "      <td>0.078592</td>\n",
              "      <td>0.153493</td>\n",
              "    </tr>\n",
              "    <tr>\n",
              "      <th>482</th>\n",
              "      <td>tea</td>\n",
              "      <td>760</td>\n",
              "      <td>1335</td>\n",
              "      <td>16.0</td>\n",
              "      <td>0.004156</td>\n",
              "      <td>0.082748</td>\n",
              "      <td>0.099790</td>\n",
              "    </tr>\n",
              "    <tr>\n",
              "      <th>103</th>\n",
              "      <td>lot</td>\n",
              "      <td>1111</td>\n",
              "      <td>1324</td>\n",
              "      <td>17.0</td>\n",
              "      <td>0.004122</td>\n",
              "      <td>0.086870</td>\n",
              "      <td>0.145877</td>\n",
              "    </tr>\n",
              "    <tr>\n",
              "      <th>744</th>\n",
              "      <td>delicious</td>\n",
              "      <td>1185</td>\n",
              "      <td>1301</td>\n",
              "      <td>18.0</td>\n",
              "      <td>0.004050</td>\n",
              "      <td>0.090920</td>\n",
              "      <td>0.155593</td>\n",
              "    </tr>\n",
              "    <tr>\n",
              "      <th>408</th>\n",
              "      <td>staff</td>\n",
              "      <td>1191</td>\n",
              "      <td>1288</td>\n",
              "      <td>19.0</td>\n",
              "      <td>0.004010</td>\n",
              "      <td>0.094930</td>\n",
              "      <td>0.156381</td>\n",
              "    </tr>\n",
              "    <tr>\n",
              "      <th>74</th>\n",
              "      <td>drink</td>\n",
              "      <td>997</td>\n",
              "      <td>1258</td>\n",
              "      <td>20.0</td>\n",
              "      <td>0.003917</td>\n",
              "      <td>0.098847</td>\n",
              "      <td>0.130909</td>\n",
              "    </tr>\n",
              "  </tbody>\n",
              "</table>\n",
              "</div>"
            ],
            "text/plain": [
              "          word  appears_in  count  ...  pct_total  cul_pct_total  appears_in_pct\n",
              "29        love        1770   2300  ...   0.007161       0.007161        0.232405\n",
              "26        shop        1629   2183  ...   0.006796       0.013957        0.213892\n",
              "621       work        1486   1904  ...   0.005928       0.019885        0.195116\n",
              "8          get        1467   1903  ...   0.005925       0.025809        0.192621\n",
              "371       food        1395   1880  ...   0.005853       0.031662        0.183167\n",
              "42        nice        1500   1795  ...   0.005588       0.037250        0.196954\n",
              "179   friendly        1624   1720  ...   0.005355       0.042605        0.213235\n",
              "10       latte        1176   1711  ...   0.005327       0.047932        0.154412\n",
              "598     little        1235   1496  ...   0.004657       0.052590        0.162159\n",
              "37          go        1201   1484  ...   0.004620       0.057210        0.157694\n",
              "407     people        1144   1402  ...   0.004365       0.061575        0.150210\n",
              "498       come        1165   1400  ...   0.004359       0.065933        0.152967\n",
              "1       pretty        1078   1364  ...   0.004247       0.070180        0.141544\n",
              "328       good        1182   1364  ...   0.004247       0.074426        0.155200\n",
              "152    service        1169   1338  ...   0.004166       0.078592        0.153493\n",
              "482        tea         760   1335  ...   0.004156       0.082748        0.099790\n",
              "103        lot        1111   1324  ...   0.004122       0.086870        0.145877\n",
              "744  delicious        1185   1301  ...   0.004050       0.090920        0.155593\n",
              "408      staff        1191   1288  ...   0.004010       0.094930        0.156381\n",
              "74       drink         997   1258  ...   0.003917       0.098847        0.130909\n",
              "\n",
              "[20 rows x 7 columns]"
            ]
          },
          "metadata": {
            "tags": []
          },
          "execution_count": 13
        }
      ]
    },
    {
      "cell_type": "markdown",
      "metadata": {
        "id": "T1QcoGTfgZwq",
        "colab_type": "text"
      },
      "source": [
        "## How do we want to analyze these coffee shop tokens? \n",
        "\n",
        "- Overall Word / Token Count\n",
        "- View Counts by Rating \n",
        "- *Hint:* a 'bad' coffee shops has a rating betweeen 1 & 3 based on the distribution of ratings. A 'good' coffee shop is a 4 or 5. "
      ]
    },
    {
      "cell_type": "code",
      "metadata": {
        "id": "wBd58L1FgZwr",
        "colab_type": "code",
        "colab": {}
      },
      "source": [
        "good_shops = shops[shops[\"star_int\"]>=4]\n",
        "bad_shops = shops[shops[\"star_int\"]<4]"
      ],
      "execution_count": 14,
      "outputs": []
    },
    {
      "cell_type": "code",
      "metadata": {
        "id": "XPhZytpvvovV",
        "colab_type": "code",
        "colab": {
          "base_uri": "https://localhost:8080/",
          "height": 176
        },
        "outputId": "03a12025-fe8e-4fe1-9711-f5d661839079"
      },
      "source": [
        "wc_good_lemmas = count(good_shops['lemmas'])\n",
        "wc_good_lemmas_top5 = wc_good_lemmas[wc_good_lemmas['rank'] <= 6]\n",
        "\n",
        "print(wc_good_lemmas_top5)"
      ],
      "execution_count": 15,
      "outputs": [
        {
          "output_type": "stream",
          "text": [
            "         word  appears_in  count  ...  pct_total  cul_pct_total  appears_in_pct\n",
            "29       love        1568   2057  ...   0.008221       0.008221        0.255375\n",
            "26       shop        1317   1758  ...   0.007026       0.015248        0.214495\n",
            "152  friendly        1436   1511  ...   0.006039       0.021287        0.233876\n",
            "494      work        1182   1497  ...   0.005983       0.027270        0.192508\n",
            "8         get        1133   1456  ...   0.005819       0.033089        0.184528\n",
            "42       nice        1210   1434  ...   0.005731       0.038821        0.197068\n",
            "\n",
            "[6 rows x 7 columns]\n"
          ],
          "name": "stdout"
        }
      ]
    },
    {
      "cell_type": "code",
      "metadata": {
        "colab_type": "code",
        "id": "1TpCuJwvv2AS",
        "colab": {
          "base_uri": "https://localhost:8080/",
          "height": 141
        },
        "outputId": "1e8aba6a-538f-447b-82cd-5b220d85488a"
      },
      "source": [
        "wc_bad_lemmas = count(bad_shops['lemmas'])\n",
        "wc_bad_lemmas_top5 = wc_bad_lemmas[wc_bad_lemmas['rank'] <= 6]\n",
        "\n",
        "print(wc_bad_lemmas_top5)"
      ],
      "execution_count": 16,
      "outputs": [
        {
          "output_type": "stream",
          "text": [
            "        word  appears_in  count  rank  pct_total  cul_pct_total  appears_in_pct\n",
            "153     food         319    497   1.0   0.007000       0.007000        0.216125\n",
            "138       go         338    450   2.0   0.006338       0.013338        0.228997\n",
            "12       get         334    447   3.0   0.006296       0.019633        0.226287\n",
            "19   service         336    436   4.0   0.006141       0.025774        0.227642\n",
            "187     shop         312    425   5.0   0.005986       0.031760        0.211382\n",
            "51     order         303    420   6.0   0.005915       0.037675        0.205285\n"
          ],
          "name": "stdout"
        }
      ]
    },
    {
      "cell_type": "markdown",
      "metadata": {
        "id": "4j44xZKTgZwu",
        "colab_type": "text"
      },
      "source": [
        "## Can visualize the words with the greatest difference in counts between 'good' & 'bad'?\n",
        "\n",
        "Couple Notes: \n",
        "- Rel. freq. instead of absolute counts b/c of different numbers of reviews\n",
        "- Only look at the top 5-10 words with the greatest differences\n"
      ]
    },
    {
      "cell_type": "code",
      "metadata": {
        "id": "5M1dETIwvygH",
        "colab_type": "code",
        "colab": {}
      },
      "source": [
        "#A union between the lists of the top five words in both the positive reviews and negative reviews\n",
        "word_list = ['love', 'shop', 'work', 'friendly', 'food', 'nice', 'go', 'service','order']"
      ],
      "execution_count": 17,
      "outputs": []
    },
    {
      "cell_type": "code",
      "metadata": {
        "id": "HoVkf__IvypL",
        "colab_type": "code",
        "colab": {}
      },
      "source": [
        "good = wc_good_lemmas[wc_good_lemmas['word'].isin(word_list)]\n",
        "good = good.sort_values(by=['word'])\n",
        "bad = wc_bad_lemmas[wc_bad_lemmas['word'].isin(word_list)]\n",
        "bad = bad.sort_values(by=['word'])"
      ],
      "execution_count": 18,
      "outputs": []
    },
    {
      "cell_type": "code",
      "metadata": {
        "id": "KJ-Sb4RSgZwv",
        "colab_type": "code",
        "colab": {
          "base_uri": "https://localhost:8080/",
          "height": 264
        },
        "outputId": "5cfa40fc-dcfe-44c3-d433-346808da1c0a"
      },
      "source": [
        "#TODO: Double line graph comparing top 5 words (from each table) w/ same word from other table\n",
        "\n",
        "plt.plot( 'word', 'pct_total', data=good, marker='o', markerfacecolor='green', markersize=12, color='lightgreen', linewidth=4, label=\"4+ stars\")\n",
        "plt.plot( 'word', 'pct_total', data=bad, marker='o', markerfacecolor='red', markersize=12, color='orange', linewidth=4, label=\"3 or less stars\")\n",
        "plt.legend()\n",
        "plt.show()"
      ],
      "execution_count": 19,
      "outputs": [
        {
          "output_type": "display_data",
          "data": {
            "image/png": "[encoded data removed]",
            "text/plain": [
              "<Figure size 432x288 with 1 Axes>"
            ]
          },
          "metadata": {
            "tags": [],
            "needs_background": "light"
          }
        }
      ]
    },
    {
      "cell_type": "markdown",
      "metadata": {
        "colab_type": "text",
        "id": "1dCb1q8XphcP",
        "toc-hr-collapsed": true
      },
      "source": [
        "## Stretch Goals\n",
        "\n",
        "* Analyze another corpus of documents - such as Indeed.com job listings ;).\n",
        "* Play with the Spacy API to\n",
        " - Extract Named Entities\n",
        " - Extracting 'noun chunks'\n",
        " - Attempt Document Classification with just Spacy\n",
        " - *Note:* This [course](https://course.spacy.io/) will be of interesting in helping you with these stretch goals. \n",
        "* Try to build a plotly dash app with your text data \n",
        "\n"
      ]
    }
  ]
}